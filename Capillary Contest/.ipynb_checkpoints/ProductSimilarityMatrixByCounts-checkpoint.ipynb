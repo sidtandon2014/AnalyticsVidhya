{
 "cells": [
  {
   "cell_type": "code",
   "execution_count": 1,
   "metadata": {},
   "outputs": [],
   "source": [
    "import pandas as pd\n",
    "import numpy as np\n",
    "import datetime\n",
    "from sklearn.metrics import pairwise\n",
    "import pdb"
   ]
  },
  {
   "cell_type": "code",
   "execution_count": 2,
   "metadata": {},
   "outputs": [],
   "source": [
    "train = pd.read_csv(\"./Data/train/train.csv\")\n",
    "submissionDFUsers = pd.read_csv(\"./data/test.csv\")\n",
    "train[\"PurchaseMonth\"] = (pd.to_datetime(train[\"OrderDate\"],format = \"%d/%m/%y\")).dt.month\n",
    "productAttrs= pd.read_csv(\"./Data/train/product_attributes.csv\")"
   ]
  },
  {
   "cell_type": "code",
   "execution_count": 3,
   "metadata": {},
   "outputs": [],
   "source": [
    "#-----------There are more than 1 purchases\n",
    "productAggData = train.groupby([\"productid\",\"UserId\"])[\"Quantity\"].count().reset_index()\n",
    "productAggData.columns = [\"productid\",\"UserId\",\"PurchaseCount\"]\n",
    "\n",
    "productMatrix = productAggData.pivot(index=\"productid\",columns=\"UserId\",values=\"PurchaseCount\").fillna(0)\n",
    "productSimilarityMatrix = pairwise.cosine_similarity(productMatrix)"
   ]
  },
  {
   "cell_type": "code",
   "execution_count": 4,
   "metadata": {},
   "outputs": [],
   "source": [
    "tmp = pd.concat([pd.DataFrame({\"productid\":productMatrix.index.values})\n",
    "           ,pd.DataFrame(productSimilarityMatrix)],axis = 1)\n",
    "\n",
    "mergedDF = productAggData[[\"UserId\",\"productid\"]].merge(tmp, how = \"inner\",on = \"productid\", suffixes = \"_y\")\n",
    "cols = mergedDF.columns[2:]\n",
    "aggMergedDF = mergedDF.groupby(\"UserId\")[cols].agg(['count','sum'])\n",
    "aggMergedDF.columns = [str(col[0]) + \"_\" + col[1] for col in aggMergedDF.columns]\n",
    "for col in cols:\n",
    "    aggMergedDF[str(col) + \"_sum\"] = aggMergedDF[str(col) + \"_sum\"]/ aggMergedDF[\"0_count\"]\n",
    "aggMergedDF = aggMergedDF[[str(col) + \"_sum\" for col in cols]]\n",
    "aggMergedDF.columns = [str(col).replace(\"_sum\",\"\") for col in aggMergedDF.columns]\n",
    "\n",
    "simArrPerUser = np.asarray(aggMergedDF)"
   ]
  },
  {
   "cell_type": "code",
   "execution_count": 17,
   "metadata": {},
   "outputs": [],
   "source": [
    "def recommendProductsForUserId(UserID, totalRecommendations):\n",
    "    #UserID = 26784\n",
    "    global simArrPerUser,aggMergedDF,productAggData\n",
    "\n",
    "    UserSpecificProducts = set(productAggData[productAggData[\"UserId\"] == UserID][\"productid\"])\n",
    "    \n",
    "    allProducts = productMatrix.index.values\n",
    "    UserIDs = aggMergedDF.index.values\n",
    "    UserIDIndex = np.where(UserIDs == UserID)\n",
    "    \n",
    "    productIds = []\n",
    "    productSortedSimilarity = np.argsort(-1 * simArrPerUser[UserIDIndex,:]).reshape(1,-1)\n",
    "    \n",
    "    for index in range(productSortedSimilarity.shape[1]):\n",
    "        productIndex = productSortedSimilarity[0,index]\n",
    "        if allProducts[productIndex] not in UserSpecificProducts:\n",
    "            productIds.append(allProducts[productIndex])\n",
    "    \n",
    "    #pdb.set_trace()\n",
    "    return productIds[0:10]"
   ]
  },
  {
   "cell_type": "code",
   "execution_count": null,
   "metadata": {},
   "outputs": [],
   "source": [
    "submission = pd.DataFrame()\n",
    "for user in submissionDFUsers[\"UserId\"].values:\n",
    "    recommendations = \"[\" + \",\".join(str(prod) for prod in recommendProductsForUserId(user,10)) + \"]\"\n",
    "    submission = pd.concat([submission,pd.DataFrame({\"UserId\":[user],\"product_list\":[recommendations]})], axis = 0)\n",
    "\n",
    "submission.to_csv(\"./Data/submission.csv\",index= False)"
   ]
  },
  {
   "cell_type": "code",
   "execution_count": 18,
   "metadata": {},
   "outputs": [
    {
     "data": {
      "text/plain": [
       "[11659146,\n",
       " 12407842,\n",
       " 12407208,\n",
       " 12407232,\n",
       " 12407854,\n",
       " 12407928,\n",
       " 12407930,\n",
       " 12423436,\n",
       " 12423438,\n",
       " 12407056]"
      ]
     },
     "execution_count": 18,
     "metadata": {},
     "output_type": "execute_result"
    }
   ],
   "source": [
    "recommendProductsForUserId(2,10)\n"
   ]
  },
  {
   "cell_type": "code",
   "execution_count": null,
   "metadata": {},
   "outputs": [],
   "source": [
    "np.argsort(-1 * simArrPerUser[UserIDIndex,:])"
   ]
  }
 ],
 "metadata": {
  "kernelspec": {
   "display_name": "Python 3",
   "language": "python",
   "name": "python3"
  },
  "language_info": {
   "codemirror_mode": {
    "name": "ipython",
    "version": 3
   },
   "file_extension": ".py",
   "mimetype": "text/x-python",
   "name": "python",
   "nbconvert_exporter": "python",
   "pygments_lexer": "ipython3",
   "version": "3.6.5"
  }
 },
 "nbformat": 4,
 "nbformat_minor": 2
}
