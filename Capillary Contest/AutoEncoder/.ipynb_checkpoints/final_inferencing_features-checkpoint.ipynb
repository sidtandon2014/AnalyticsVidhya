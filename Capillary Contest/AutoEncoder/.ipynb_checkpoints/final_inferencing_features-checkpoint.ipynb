{
 "cells": [
  {
   "cell_type": "code",
   "execution_count": null,
   "metadata": {},
   "outputs": [],
   "source": [
    "import keras as k\n",
    "import keras.backend as K\n",
    "from keras.layers import merge\n",
    "from keras.layers.normalization import BatchNormalization\n",
    "from keras.callbacks import ModelCheckpoint,EarlyStopping,ReduceLROnPlateau\n",
    "from keras.callbacks import History\n",
    "from keras.layers import Activation\n",
    "from keras.models import model_from_json\n",
    "from keras.optimizers import Adam\n",
    "from matplotlib import pyplot as plt\n",
    "from scipy.ndimage import rotate as rot\n",
    "from sklearn.model_selection import train_test_split\n",
    "from keras import utils\n",
    "import numpy as np\n",
    "import tensorflow as tf\n",
    "import cv2\n",
    "import time"
   ]
  },
  {
   "cell_type": "code",
   "execution_count": null,
   "metadata": {},
   "outputs": [],
   "source": [
    "#load image data\n",
    "all_data = np.load('images_dataset.npy')\n",
    "\n",
    "###Just in case you want to try for few images, index all_data accordingly\n",
    "X_test = all_data\n",
    "print(X_test.shape)\n",
    "\n",
    "def reset_tf_session():\n",
    "    K.clear_session()\n",
    "    tf.reset_default_graph()\n",
    "    s = K.get_session()\n",
    "    return s\n",
    "\n",
    "from keras.models import load_model\n",
    "s = reset_tf_session()\n",
    "\n",
    "##Load saved model. Also spend time in tuning the model. This is a generic model we created from the training script.\n",
    "autoencoder = load_model(\"hackathon_autoencoder.86-479.35.h5\")  \n",
    "encoder = autoencoder.layers[1]\n",
    "decoder = autoencoder.layers[2]\n",
    "\n",
    "\n",
    "\n",
    "def generate_embedding(img,encoder,decoder):\n",
    "    \"\"\"Inference the model to generate embedding\"\"\"\n",
    "    start = time.time()\n",
    "    code = encoder.predict(img[None])[0]  # Generated Embedding\n",
    "    end = time.time()\n",
    "    #print(end - start)\n",
    "    reconstructed = decoder.predict(code[None])[0]\n",
    "    \n",
    "    return reconstructed, code"
   ]
  },
  {
   "cell_type": "code",
   "execution_count": null,
   "metadata": {},
   "outputs": [],
   "source": [
    "all_embeddings = list()\n",
    "for i,row in enumerate(X_test):\n",
    "    reconstruct, code = generate_embedding(row, encoder, decoder)\n",
    "    all_embeddings.append(code)\n",
    "embeddings_array = np.stack(all_embeddings)"
   ]
  }
 ],
 "metadata": {
  "kernelspec": {
   "display_name": "Python 3",
   "language": "python",
   "name": "python3"
  },
  "language_info": {
   "codemirror_mode": {
    "name": "ipython",
    "version": 3
   },
   "file_extension": ".py",
   "mimetype": "text/x-python",
   "name": "python",
   "nbconvert_exporter": "python",
   "pygments_lexer": "ipython3",
   "version": "3.6.5"
  }
 },
 "nbformat": 4,
 "nbformat_minor": 2
}
