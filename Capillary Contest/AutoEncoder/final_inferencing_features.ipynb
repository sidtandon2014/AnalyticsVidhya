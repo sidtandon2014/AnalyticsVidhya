{
 "cells": [
  {
   "cell_type": "code",
   "execution_count": 6,
   "metadata": {},
   "outputs": [],
   "source": [
    "import keras as k\n",
    "import keras.backend as K\n",
    "from keras.layers import merge\n",
    "from keras.layers.normalization import BatchNormalization\n",
    "from keras.callbacks import ModelCheckpoint,EarlyStopping,ReduceLROnPlateau\n",
    "from keras.callbacks import History\n",
    "from keras.layers import Activation\n",
    "from keras.models import model_from_json\n",
    "from keras.optimizers import Adam\n",
    "from matplotlib import pyplot as plt\n",
    "from scipy.ndimage import rotate as rot\n",
    "from sklearn.model_selection import train_test_split\n",
    "from keras import utils\n",
    "import numpy as np\n",
    "import tensorflow as tf\n",
    "import cv2\n",
    "import time\n",
    "import pandas as pd"
   ]
  },
  {
   "cell_type": "code",
   "execution_count": 2,
   "metadata": {},
   "outputs": [
    {
     "name": "stdout",
     "output_type": "stream",
     "text": [
      "(3026, 128, 128, 3)\n"
     ]
    }
   ],
   "source": [
    "#load image data\n",
    "all_data = np.load('images_dataset.npy')\n",
    "\n",
    "###Just in case you want to try for few images, index all_data accordingly\n",
    "X_test = all_data\n",
    "print(X_test.shape)\n",
    "\n",
    "def reset_tf_session():\n",
    "    K.clear_session()\n",
    "    tf.reset_default_graph()\n",
    "    s = K.get_session()\n",
    "    return s\n",
    "\n",
    "from keras.models import load_model\n",
    "s = reset_tf_session()\n",
    "\n",
    "##Load saved model. Also spend time in tuning the model. This is a generic model we created from the training script.\n",
    "autoencoder = load_model(\"hackathon_autoencoder.64-519.32.h5\")  \n",
    "encoder = autoencoder.layers[1]\n",
    "decoder = autoencoder.layers[2]\n",
    "\n",
    "\n",
    "\n",
    "def generate_embedding(img,encoder,decoder):\n",
    "    \"\"\"Inference the model to generate embedding\"\"\"\n",
    "    start = time.time()\n",
    "    code = encoder.predict(img[None])[0]  # Generated Embedding\n",
    "    end = time.time()\n",
    "    #print(end - start)\n",
    "    reconstructed = decoder.predict(code[None])[0]\n",
    "    \n",
    "    return reconstructed, code"
   ]
  },
  {
   "cell_type": "code",
   "execution_count": 3,
   "metadata": {},
   "outputs": [],
   "source": [
    "all_embeddings = list()\n",
    "for i,row in enumerate(X_test):\n",
    "    reconstruct, code = generate_embedding(row, encoder, decoder)\n",
    "    all_embeddings.append(code)\n",
    "embeddings_array = np.stack(all_embeddings)"
   ]
  },
  {
   "cell_type": "code",
   "execution_count": 20,
   "metadata": {},
   "outputs": [],
   "source": [
    "def recommendProductsForUserId(UserID, totalRecommendations):\n",
    "    #UserID = 26784\n",
    "    global simArrPerUser,aggMergedDF,productAggData\n",
    "\n",
    "    UserSpecificProducts = set(productAggData[productAggData[\"UserId\"] == UserID][\"productid\"])\n",
    "    \n",
    "    allProducts = productMatrix[[\"productid\"]].values\n",
    "    UserIDs = aggMergedDF.index.values\n",
    "    UserIDIndex = np.where(UserIDs == UserID)\n",
    "    \n",
    "    productIds = []\n",
    "    productSortedSimilarity = np.argsort(-1 * simArrPerUser[UserIDIndex,:]).reshape(1,-1)\n",
    "    \n",
    "    #pdb.set_trace()\n",
    "    for index in range(productSortedSimilarity.shape[1]):\n",
    "        productIndex = productSortedSimilarity[0,index]\n",
    "        if allProducts[productIndex][0] not in UserSpecificProducts:\n",
    "            productIds.append(allProducts[productIndex][0])\n",
    "    \n",
    "    \n",
    "    return productIds[0:totalRecommendations]"
   ]
  },
  {
   "cell_type": "code",
   "execution_count": 7,
   "metadata": {},
   "outputs": [],
   "source": [
    "submissionDFUsers = pd.read_csv(\"../data/test.csv\")\n",
    "trainDFUsers = pd.read_csv(\"../data/train/train.csv\")\n",
    "productMatrix = pd.read_csv(\"product_image_id_list.csv\",header=None)\n",
    "productMatrix.columns = [\"productid\"]\n",
    "productAggData = trainDFUsers.groupby([\"productid\",\"UserId\"])[\"Quantity\"].count().reset_index()\n",
    "productAggData.columns = [\"productid\",\"UserId\",\"PurchaseCount\"]"
   ]
  },
  {
   "cell_type": "code",
   "execution_count": 17,
   "metadata": {},
   "outputs": [],
   "source": []
  },
  {
   "cell_type": "code",
   "execution_count": 18,
   "metadata": {},
   "outputs": [],
   "source": [
    "from sklearn.metrics.pairwise import cosine_similarity\n",
    "productSimilarityMatrix = cosine_similarity(embeddings_array)\n",
    "\n",
    "tmp = pd.concat([productMatrix[[\"productid\"]]\n",
    "           ,pd.DataFrame(productSimilarityMatrix)],axis = 1)\n",
    "\n",
    "mergedDF = productAggData[[\"UserId\",\"productid\"]].merge(tmp, how = \"inner\",on = \"productid\", suffixes = \"_y\")\n",
    "cols = mergedDF.columns[2:]\n",
    "aggMergedDF = mergedDF.groupby(\"UserId\")[cols].agg(['count','sum'])\n",
    "aggMergedDF.columns = [str(col[0]) + \"_\" + col[1] for col in aggMergedDF.columns]\n",
    "for col in cols:\n",
    "    aggMergedDF[str(col) + \"_sum\"] = aggMergedDF[str(col) + \"_sum\"]/ aggMergedDF[\"0_count\"]\n",
    "aggMergedDF = aggMergedDF[[str(col) + \"_sum\" for col in cols]]\n",
    "aggMergedDF.columns = [str(col).replace(\"_sum\",\"\") for col in aggMergedDF.columns]\n",
    "\n",
    "simArrPerUser = np.asarray(aggMergedDF)"
   ]
  },
  {
   "cell_type": "code",
   "execution_count": 23,
   "metadata": {},
   "outputs": [],
   "source": [
    "submission = pd.DataFrame()\n",
    "for user in submissionDFUsers[\"UserId\"].values:\n",
    "    recommendations = \"[\" + \",\".join(str(prod) for prod in recommendProductsForUserId(user,10)) + \"]\"\n",
    "    submission = pd.concat([submission,pd.DataFrame({\"UserId\":[user],\"product_list\":[recommendations]})], axis = 0)\n",
    "\n",
    "submission.to_csv(\"../Data/submission.csv\",index= False)"
   ]
  },
  {
   "cell_type": "code",
   "execution_count": 21,
   "metadata": {},
   "outputs": [
    {
     "data": {
      "text/plain": [
       "[11659594,\n",
       " 11659864,\n",
       " 12658612,\n",
       " 12658288,\n",
       " 11714682,\n",
       " 12658502,\n",
       " 11659614,\n",
       " 12947668,\n",
       " 11659570,\n",
       " 12657900]"
      ]
     },
     "execution_count": 21,
     "metadata": {},
     "output_type": "execute_result"
    }
   ],
   "source": [
    "recommendProductsForUserId(2,10)"
   ]
  }
 ],
 "metadata": {
  "kernelspec": {
   "display_name": "Python 3",
   "language": "python",
   "name": "python3"
  },
  "language_info": {
   "codemirror_mode": {
    "name": "ipython",
    "version": 3
   },
   "file_extension": ".py",
   "mimetype": "text/x-python",
   "name": "python",
   "nbconvert_exporter": "python",
   "pygments_lexer": "ipython3",
   "version": "3.6.5"
  }
 },
 "nbformat": 4,
 "nbformat_minor": 2
}
